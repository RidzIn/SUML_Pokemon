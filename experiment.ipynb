{
 "cells": [
  {
   "cell_type": "code",
   "id": "initial_id",
   "metadata": {
    "collapsed": true,
    "ExecuteTime": {
     "end_time": "2025-01-16T13:10:31.206973Z",
     "start_time": "2025-01-16T13:10:27.431223Z"
    }
   },
   "source": [
    "from model_api import invoke_model\n",
    "\n",
    "\n",
    "invoke_model(\"RidzIn/Pokemon-Describer\", 's-l1600.png')"
   ],
   "outputs": [
    {
     "data": {
      "text/plain": [
       "{'generated_description': 'this character is a small, green creature with a rounded body and a prominent plant feature on its back',\n",
       " 'original': None}"
      ]
     },
     "execution_count": 5,
     "metadata": {},
     "output_type": "execute_result"
    }
   ],
   "execution_count": 5
  },
  {
   "metadata": {
    "ExecuteTime": {
     "end_time": "2025-01-16T13:10:39.696800Z",
     "start_time": "2025-01-16T13:10:31.309704Z"
    }
   },
   "cell_type": "code",
   "source": "invoke_model(\"Salesforce/blip-image-captioning-large\", 's-l1600.png')",
   "id": "b7a5eb7108c55d46",
   "outputs": [
    {
     "data": {
      "text/plain": [
       "{'generated_description': 'a cartoon of a pokemon with a leaf on its back',\n",
       " 'original': None}"
      ]
     },
     "execution_count": 6,
     "metadata": {},
     "output_type": "execute_result"
    }
   ],
   "execution_count": 6
  },
  {
   "metadata": {},
   "cell_type": "code",
   "outputs": [],
   "execution_count": null,
   "source": "",
   "id": "4b12617d5cf164ad"
  }
 ],
 "metadata": {
  "kernelspec": {
   "display_name": "Python 3",
   "language": "python",
   "name": "python3"
  },
  "language_info": {
   "codemirror_mode": {
    "name": "ipython",
    "version": 2
   },
   "file_extension": ".py",
   "mimetype": "text/x-python",
   "name": "python",
   "nbconvert_exporter": "python",
   "pygments_lexer": "ipython2",
   "version": "2.7.6"
  }
 },
 "nbformat": 4,
 "nbformat_minor": 5
}
